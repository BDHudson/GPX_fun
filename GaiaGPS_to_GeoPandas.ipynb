{
 "cells": [
  {
   "cell_type": "code",
   "execution_count": null,
   "metadata": {
    "collapsed": true
   },
   "outputs": [],
   "source": [
    "# to read \n",
    "# https://github.com/komax/gpx-pandas/blob/master/gpxpandas/gpxreader.py\n",
    "\n",
    "# https://github.com/tkrajina/gpxpy\n",
    "\n",
    "# https://github.com/tkrajina/srtm.py\n",
    "\n",
    "# also useful - http://andykee.com/visualizing-strava-tracks-with-python.html"
   ]
  },
  {
   "cell_type": "code",
   "execution_count": 2,
   "metadata": {
    "collapsed": true
   },
   "outputs": [],
   "source": [
    "import gpxpy\n",
    "import pandas as pd"
   ]
  },
  {
   "cell_type": "code",
   "execution_count": 3,
   "metadata": {
    "collapsed": false
   },
   "outputs": [],
   "source": [
    "# these function are directly from\n",
    "# https://github.com/komax/gpx-pandas/blob/master/gpxpandas/gpxreader.py\n",
    "\n",
    "def parse_gpx(gpx_file_name):\n",
    "    return gpxpy.parse(gpx_file_name)\n",
    "\n",
    "\n",
    "def data_frame_for_track_segment(segment):\n",
    "    seg_dict = {}\n",
    "\n",
    "    for point in segment.points:\n",
    "        seg_dict[point.time] = [point.latitude, point.longitude,\n",
    "                                point.elevation, point.speed]\n",
    "    seg_frame = pd.DataFrame(data=seg_dict)\n",
    "    # Switch columns and rows s.t. timestamps are rows and gps data columns.\n",
    "    seg_frame = seg_frame.T\n",
    "    seg_frame.columns = ['latitude', 'longitude', 'altitude', 'speed']\n",
    "    return seg_frame\n",
    "\n",
    "\n",
    "def track_segment_mapping(track):\n",
    "    segments = [data_frame_for_track_segment(segment)\n",
    "                for segment in track.segments]\n",
    "    return segments\n",
    "\n",
    "\n",
    "def pandas_data_frame_for_gpx(gpx):\n",
    "    tracks_frames = [track_segment_mapping(track) for track in gpx.tracks]\n",
    "    # Create a hierarchical DataFrame by unstacking.\n",
    "    tracks_frame = pd.DataFrame(tracks_frames)\n",
    "    unstacked_frame = tracks_frame.unstack()\n",
    "    unstacked_frame.index.name = 'tracks'\n",
    "    assert gpx.name\n",
    "    d_frame = pd.DataFrame({gpx.name: unstacked_frame}).T\n",
    "    d_frame.index.name = 'name'\n",
    "    return d_frame"
   ]
  },
  {
   "cell_type": "code",
   "execution_count": 6,
   "metadata": {
    "collapsed": false
   },
   "outputs": [],
   "source": [
    "# this is deposited directly from \n",
    "gpx_file_name = \"track.gpx\"\n",
    "\n",
    "# open it\n",
    "gpx_file = open(gpx_file_name, 'r')\n",
    "\n",
    "# parse it \n",
    "gpx = parse_gpx(gpx_file)"
   ]
  },
  {
   "cell_type": "code",
   "execution_count": 10,
   "metadata": {
    "collapsed": false
   },
   "outputs": [
    {
     "ename": "ValueError",
     "evalue": "Length mismatch: Expected axis has 0 elements, new values have 4 elements",
     "output_type": "error",
     "traceback": [
      "\u001b[0;31m---------------------------------------------------------------------------\u001b[0m",
      "\u001b[0;31mValueError\u001b[0m                                Traceback (most recent call last)",
      "\u001b[0;32m<ipython-input-10-9cbf8c1c91cf>\u001b[0m in \u001b[0;36m<module>\u001b[0;34m()\u001b[0m\n\u001b[0;32m----> 1\u001b[0;31m \u001b[0mpandas_data_frame_for_gpx\u001b[0m\u001b[0;34m(\u001b[0m\u001b[0mgpx\u001b[0m\u001b[0;34m)\u001b[0m\u001b[0;34m\u001b[0m\u001b[0m\n\u001b[0m",
      "\u001b[0;32m<ipython-input-3-c51ab3a49a15>\u001b[0m in \u001b[0;36mpandas_data_frame_for_gpx\u001b[0;34m(gpx)\u001b[0m\n\u001b[1;32m     23\u001b[0m \u001b[0;34m\u001b[0m\u001b[0m\n\u001b[1;32m     24\u001b[0m \u001b[0;32mdef\u001b[0m \u001b[0mpandas_data_frame_for_gpx\u001b[0m\u001b[0;34m(\u001b[0m\u001b[0mgpx\u001b[0m\u001b[0;34m)\u001b[0m\u001b[0;34m:\u001b[0m\u001b[0;34m\u001b[0m\u001b[0m\n\u001b[0;32m---> 25\u001b[0;31m     \u001b[0mtracks_frames\u001b[0m \u001b[0;34m=\u001b[0m \u001b[0;34m[\u001b[0m\u001b[0mtrack_segment_mapping\u001b[0m\u001b[0;34m(\u001b[0m\u001b[0mtrack\u001b[0m\u001b[0;34m)\u001b[0m \u001b[0;32mfor\u001b[0m \u001b[0mtrack\u001b[0m \u001b[0;32min\u001b[0m \u001b[0mgpx\u001b[0m\u001b[0;34m.\u001b[0m\u001b[0mtracks\u001b[0m\u001b[0;34m]\u001b[0m\u001b[0;34m\u001b[0m\u001b[0m\n\u001b[0m\u001b[1;32m     26\u001b[0m     \u001b[0;31m# Create a hierarchical DataFrame by unstacking.\u001b[0m\u001b[0;34m\u001b[0m\u001b[0;34m\u001b[0m\u001b[0m\n\u001b[1;32m     27\u001b[0m     \u001b[0mtracks_frame\u001b[0m \u001b[0;34m=\u001b[0m \u001b[0mpd\u001b[0m\u001b[0;34m.\u001b[0m\u001b[0mDataFrame\u001b[0m\u001b[0;34m(\u001b[0m\u001b[0mtracks_frames\u001b[0m\u001b[0;34m)\u001b[0m\u001b[0;34m\u001b[0m\u001b[0m\n",
      "\u001b[0;32m<ipython-input-3-c51ab3a49a15>\u001b[0m in \u001b[0;36mtrack_segment_mapping\u001b[0;34m(track)\u001b[0m\n\u001b[1;32m     18\u001b[0m \u001b[0;32mdef\u001b[0m \u001b[0mtrack_segment_mapping\u001b[0m\u001b[0;34m(\u001b[0m\u001b[0mtrack\u001b[0m\u001b[0;34m)\u001b[0m\u001b[0;34m:\u001b[0m\u001b[0;34m\u001b[0m\u001b[0m\n\u001b[1;32m     19\u001b[0m     segments = [data_frame_for_track_segment(segment)\n\u001b[0;32m---> 20\u001b[0;31m                 for segment in track.segments]\n\u001b[0m\u001b[1;32m     21\u001b[0m     \u001b[0;32mreturn\u001b[0m \u001b[0msegments\u001b[0m\u001b[0;34m\u001b[0m\u001b[0m\n\u001b[1;32m     22\u001b[0m \u001b[0;34m\u001b[0m\u001b[0m\n",
      "\u001b[0;32m<ipython-input-3-c51ab3a49a15>\u001b[0m in \u001b[0;36mdata_frame_for_track_segment\u001b[0;34m(segment)\u001b[0m\n\u001b[1;32m     12\u001b[0m     \u001b[0;31m# Switch columns and rows s.t. timestamps are rows and gps data columns.\u001b[0m\u001b[0;34m\u001b[0m\u001b[0;34m\u001b[0m\u001b[0m\n\u001b[1;32m     13\u001b[0m     \u001b[0mseg_frame\u001b[0m \u001b[0;34m=\u001b[0m \u001b[0mseg_frame\u001b[0m\u001b[0;34m.\u001b[0m\u001b[0mT\u001b[0m\u001b[0;34m\u001b[0m\u001b[0m\n\u001b[0;32m---> 14\u001b[0;31m     \u001b[0mseg_frame\u001b[0m\u001b[0;34m.\u001b[0m\u001b[0mcolumns\u001b[0m \u001b[0;34m=\u001b[0m \u001b[0;34m[\u001b[0m\u001b[0;34m'latitude'\u001b[0m\u001b[0;34m,\u001b[0m \u001b[0;34m'longitude'\u001b[0m\u001b[0;34m,\u001b[0m \u001b[0;34m'altitude'\u001b[0m\u001b[0;34m,\u001b[0m \u001b[0;34m'speed'\u001b[0m\u001b[0;34m]\u001b[0m\u001b[0;34m\u001b[0m\u001b[0m\n\u001b[0m\u001b[1;32m     15\u001b[0m     \u001b[0;32mreturn\u001b[0m \u001b[0mseg_frame\u001b[0m\u001b[0;34m\u001b[0m\u001b[0m\n\u001b[1;32m     16\u001b[0m \u001b[0;34m\u001b[0m\u001b[0m\n",
      "\u001b[0;32m/Users/benhudson/anaconda/envs/vectorenv/lib/python2.7/site-packages/pandas/core/generic.pyc\u001b[0m in \u001b[0;36m__setattr__\u001b[0;34m(self, name, value)\u001b[0m\n\u001b[1;32m   2755\u001b[0m         \u001b[0;32mtry\u001b[0m\u001b[0;34m:\u001b[0m\u001b[0;34m\u001b[0m\u001b[0m\n\u001b[1;32m   2756\u001b[0m             \u001b[0mobject\u001b[0m\u001b[0;34m.\u001b[0m\u001b[0m__getattribute__\u001b[0m\u001b[0;34m(\u001b[0m\u001b[0mself\u001b[0m\u001b[0;34m,\u001b[0m \u001b[0mname\u001b[0m\u001b[0;34m)\u001b[0m\u001b[0;34m\u001b[0m\u001b[0m\n\u001b[0;32m-> 2757\u001b[0;31m             \u001b[0;32mreturn\u001b[0m \u001b[0mobject\u001b[0m\u001b[0;34m.\u001b[0m\u001b[0m__setattr__\u001b[0m\u001b[0;34m(\u001b[0m\u001b[0mself\u001b[0m\u001b[0;34m,\u001b[0m \u001b[0mname\u001b[0m\u001b[0;34m,\u001b[0m \u001b[0mvalue\u001b[0m\u001b[0;34m)\u001b[0m\u001b[0;34m\u001b[0m\u001b[0m\n\u001b[0m\u001b[1;32m   2758\u001b[0m         \u001b[0;32mexcept\u001b[0m \u001b[0mAttributeError\u001b[0m\u001b[0;34m:\u001b[0m\u001b[0;34m\u001b[0m\u001b[0m\n\u001b[1;32m   2759\u001b[0m             \u001b[0;32mpass\u001b[0m\u001b[0;34m\u001b[0m\u001b[0m\n",
      "\u001b[0;32mpandas/src/properties.pyx\u001b[0m in \u001b[0;36mpandas.lib.AxisProperty.__set__ (pandas/lib.c:46241)\u001b[0;34m()\u001b[0m\n",
      "\u001b[0;32m/Users/benhudson/anaconda/envs/vectorenv/lib/python2.7/site-packages/pandas/core/generic.pyc\u001b[0m in \u001b[0;36m_set_axis\u001b[0;34m(self, axis, labels)\u001b[0m\n\u001b[1;32m    446\u001b[0m \u001b[0;34m\u001b[0m\u001b[0m\n\u001b[1;32m    447\u001b[0m     \u001b[0;32mdef\u001b[0m \u001b[0m_set_axis\u001b[0m\u001b[0;34m(\u001b[0m\u001b[0mself\u001b[0m\u001b[0;34m,\u001b[0m \u001b[0maxis\u001b[0m\u001b[0;34m,\u001b[0m \u001b[0mlabels\u001b[0m\u001b[0;34m)\u001b[0m\u001b[0;34m:\u001b[0m\u001b[0;34m\u001b[0m\u001b[0m\n\u001b[0;32m--> 448\u001b[0;31m         \u001b[0mself\u001b[0m\u001b[0;34m.\u001b[0m\u001b[0m_data\u001b[0m\u001b[0;34m.\u001b[0m\u001b[0mset_axis\u001b[0m\u001b[0;34m(\u001b[0m\u001b[0maxis\u001b[0m\u001b[0;34m,\u001b[0m \u001b[0mlabels\u001b[0m\u001b[0;34m)\u001b[0m\u001b[0;34m\u001b[0m\u001b[0m\n\u001b[0m\u001b[1;32m    449\u001b[0m         \u001b[0mself\u001b[0m\u001b[0;34m.\u001b[0m\u001b[0m_clear_item_cache\u001b[0m\u001b[0;34m(\u001b[0m\u001b[0;34m)\u001b[0m\u001b[0;34m\u001b[0m\u001b[0m\n\u001b[1;32m    450\u001b[0m \u001b[0;34m\u001b[0m\u001b[0m\n",
      "\u001b[0;32m/Users/benhudson/anaconda/envs/vectorenv/lib/python2.7/site-packages/pandas/core/internals.pyc\u001b[0m in \u001b[0;36mset_axis\u001b[0;34m(self, axis, new_labels)\u001b[0m\n\u001b[1;32m   2800\u001b[0m             raise ValueError('Length mismatch: Expected axis has %d elements, '\n\u001b[1;32m   2801\u001b[0m                              \u001b[0;34m'new values have %d elements'\u001b[0m \u001b[0;34m%\u001b[0m\u001b[0;34m\u001b[0m\u001b[0m\n\u001b[0;32m-> 2802\u001b[0;31m                              (old_len, new_len))\n\u001b[0m\u001b[1;32m   2803\u001b[0m \u001b[0;34m\u001b[0m\u001b[0m\n\u001b[1;32m   2804\u001b[0m         \u001b[0mself\u001b[0m\u001b[0;34m.\u001b[0m\u001b[0maxes\u001b[0m\u001b[0;34m[\u001b[0m\u001b[0maxis\u001b[0m\u001b[0;34m]\u001b[0m \u001b[0;34m=\u001b[0m \u001b[0mnew_labels\u001b[0m\u001b[0;34m\u001b[0m\u001b[0m\n",
      "\u001b[0;31mValueError\u001b[0m: Length mismatch: Expected axis has 0 elements, new values have 4 elements"
     ]
    }
   ],
   "source": [
    "pandas_data_frame_for_gpx(gpx)"
   ]
  },
  {
   "cell_type": "code",
   "execution_count": 5,
   "metadata": {
    "collapsed": false
   },
   "outputs": [
    {
     "name": "stderr",
     "output_type": "stream",
     "text": [
      "ERROR:root:Start tag expected, '<' not found, line 1, column 1\n",
      "Traceback (most recent call last):\n",
      "  File \"/Users/benhudson/anaconda/envs/vectorenv/lib/python2.7/site-packages/gpxpy/parser.py\", line 187, in parse\n",
      "    self.xml_parser = LXMLParser(self.xml)\n",
      "  File \"/Users/benhudson/anaconda/envs/vectorenv/lib/python2.7/site-packages/gpxpy/parser.py\", line 105, in __init__\n",
      "    self.dom = mod_etree.XML(self.xml)\n",
      "  File \"src/lxml/lxml.etree.pyx\", line 3192, in lxml.etree.XML (src/lxml/lxml.etree.c:78582)\n",
      "  File \"src/lxml/parser.pxi\", line 1830, in lxml.etree._parseMemoryDocument (src/lxml/lxml.etree.c:117830)\n",
      "  File \"src/lxml/parser.pxi\", line 1718, in lxml.etree._parseDoc (src/lxml/lxml.etree.c:116510)\n",
      "  File \"src/lxml/parser.pxi\", line 1090, in lxml.etree._BaseParser._parseDoc (src/lxml/lxml.etree.c:110800)\n",
      "  File \"src/lxml/parser.pxi\", line 584, in lxml.etree._ParserContext._handleParseResultDoc (src/lxml/lxml.etree.c:104658)\n",
      "  File \"src/lxml/parser.pxi\", line 694, in lxml.etree._handleParseResult (src/lxml/lxml.etree.c:106352)\n",
      "  File \"src/lxml/parser.pxi\", line 624, in lxml.etree._raiseParseError (src/lxml/lxml.etree.c:105220)\n",
      "XMLSyntaxError: Start tag expected, '<' not found, line 1, column 1\n"
     ]
    },
    {
     "ename": "GPXXMLSyntaxException",
     "evalue": "Error parsing XML: Start tag expected, '<' not found, line 1, column 1",
     "output_type": "error",
     "traceback": [
      "\u001b[0;31m---------------------------------------------------------------------------\u001b[0m",
      "\u001b[0;31mGPXXMLSyntaxException\u001b[0m                     Traceback (most recent call last)",
      "\u001b[0;32m<ipython-input-5-c2ce4fbb929a>\u001b[0m in \u001b[0;36m<module>\u001b[0;34m()\u001b[0m\n\u001b[0;32m----> 1\u001b[0;31m \u001b[0mgpxpy\u001b[0m\u001b[0;34m.\u001b[0m\u001b[0mparse\u001b[0m\u001b[0;34m(\u001b[0m\u001b[0mgpx_file_name\u001b[0m\u001b[0;34m)\u001b[0m\u001b[0;34m\u001b[0m\u001b[0m\n\u001b[0m",
      "\u001b[0;32m/Users/benhudson/anaconda/envs/vectorenv/lib/python2.7/site-packages/gpxpy/__init__.pyc\u001b[0m in \u001b[0;36mparse\u001b[0;34m(xml_or_file, parser, version)\u001b[0m\n\u001b[1;32m     34\u001b[0m     \u001b[0mparser\u001b[0m \u001b[0;34m=\u001b[0m \u001b[0mmod_parser\u001b[0m\u001b[0;34m.\u001b[0m\u001b[0mGPXParser\u001b[0m\u001b[0;34m(\u001b[0m\u001b[0mxml_or_file\u001b[0m\u001b[0;34m,\u001b[0m \u001b[0mparser\u001b[0m\u001b[0;34m=\u001b[0m\u001b[0mparser\u001b[0m\u001b[0;34m)\u001b[0m\u001b[0;34m\u001b[0m\u001b[0m\n\u001b[1;32m     35\u001b[0m \u001b[0;34m\u001b[0m\u001b[0m\n\u001b[0;32m---> 36\u001b[0;31m     \u001b[0;32mreturn\u001b[0m \u001b[0mparser\u001b[0m\u001b[0;34m.\u001b[0m\u001b[0mparse\u001b[0m\u001b[0;34m(\u001b[0m\u001b[0mversion\u001b[0m\u001b[0;34m)\u001b[0m\u001b[0;34m\u001b[0m\u001b[0m\n\u001b[0m",
      "\u001b[0;32m/Users/benhudson/anaconda/envs/vectorenv/lib/python2.7/site-packages/gpxpy/parser.pyc\u001b[0m in \u001b[0;36mparse\u001b[0;34m(self, version)\u001b[0m\n\u001b[1;32m    210\u001b[0m             \u001b[0;31m# But, if the user need the original exception (lxml or minidom)\u001b[0m\u001b[0;34m\u001b[0m\u001b[0;34m\u001b[0m\u001b[0m\n\u001b[1;32m    211\u001b[0m             \u001b[0;31m# it is available with GPXXMLSyntaxException.original_exception:\u001b[0m\u001b[0;34m\u001b[0m\u001b[0;34m\u001b[0m\u001b[0m\n\u001b[0;32m--> 212\u001b[0;31m             \u001b[0;32mraise\u001b[0m \u001b[0mmod_gpx\u001b[0m\u001b[0;34m.\u001b[0m\u001b[0mGPXXMLSyntaxException\u001b[0m\u001b[0;34m(\u001b[0m\u001b[0;34m'Error parsing XML: %s'\u001b[0m \u001b[0;34m%\u001b[0m \u001b[0mstr\u001b[0m\u001b[0;34m(\u001b[0m\u001b[0me\u001b[0m\u001b[0;34m)\u001b[0m\u001b[0;34m,\u001b[0m \u001b[0me\u001b[0m\u001b[0;34m)\u001b[0m\u001b[0;34m\u001b[0m\u001b[0m\n\u001b[0m\u001b[1;32m    213\u001b[0m \u001b[0;34m\u001b[0m\u001b[0m\n\u001b[1;32m    214\u001b[0m     \u001b[0;32mdef\u001b[0m \u001b[0m__parse_dom\u001b[0m\u001b[0;34m(\u001b[0m\u001b[0mself\u001b[0m\u001b[0;34m,\u001b[0m \u001b[0mversion\u001b[0m \u001b[0;34m=\u001b[0m \u001b[0mNone\u001b[0m\u001b[0;34m)\u001b[0m\u001b[0;34m:\u001b[0m\u001b[0;34m\u001b[0m\u001b[0m\n",
      "\u001b[0;31mGPXXMLSyntaxException\u001b[0m: Error parsing XML: Start tag expected, '<' not found, line 1, column 1"
     ]
    }
   ],
   "source": [
    "gpxpy.parse(gpx_file_name)\n"
   ]
  },
  {
   "cell_type": "code",
   "execution_count": null,
   "metadata": {
    "collapsed": true
   },
   "outputs": [],
   "source": []
  }
 ],
 "metadata": {
  "kernelspec": {
   "display_name": "Python 2",
   "language": "python",
   "name": "python2"
  },
  "language_info": {
   "codemirror_mode": {
    "name": "ipython",
    "version": 2
   },
   "file_extension": ".py",
   "mimetype": "text/x-python",
   "name": "python",
   "nbconvert_exporter": "python",
   "pygments_lexer": "ipython2",
   "version": "2.7.12"
  }
 },
 "nbformat": 4,
 "nbformat_minor": 1
}
